{
 "cells": [
  {
   "cell_type": "code",
   "execution_count": 1,
   "metadata": {},
   "outputs": [],
   "source": [
    "import numpy as np\n",
    "from recordtype import recordtype\n",
    "\n",
    "import pofah.jet_sample as js\n",
    "import pofah.util.sample_factory as sf\n",
    "import pofah.util.experiment as ex\n",
    "import pofah.path_constants.sample_dict_file_parts_reco as sdfr\n",
    "import pofah.path_constants.sample_dict_file_parts_selected as sdfs\n",
    "import dadrah.selection.loss_strategy as lost\n",
    "import dadrah.util.data_processing as dapr\n",
    "import pofah.phase_space.cut_constants as cuts"
   ]
  },
  {
   "cell_type": "code",
   "execution_count": 3,
   "metadata": {},
   "outputs": [],
   "source": [
    "#****************************************#\n",
    "#       fitted polynomial selections\n",
    "#****************************************#\n",
    "\n",
    "cut_polys_par3 = {\n",
    "    \n",
    "    0.99 : np.poly1d([-7.03032980e-11, 1.06542864e-06, -2.17139299e-03, 3.31447885e+00]),\n",
    "    0.9 : np.poly1d([-4.60568395e-11, 7.63471757e-07, -1.55537204e-03, 2.81116723e+00]),\n",
    "    0.1 : np.poly1d([-1.57031061e-11, 3.01628110e-07, -5.03564141e-04, 1.83966064e+00])\n",
    "}\n",
    "\n",
    "cut_polys_par5 = {\n",
    "    \n",
    "    0.99 : np.poly1d([6.39477740e-18, -1.32096520e-13, 9.60377076e-10, -2.68629790e-06, 4.11271170e-03, -5.10765776e-01]),\n",
    "    0.9 : np.poly1d([4.53587326e-18, -9.43590874e-14, 6.95373175e-10, -1.95383392e-06, 3.02479614e-03, 8.16766148e-03]),\n",
    "    0.1 : np.poly1d([1.43916815e-18, -3.34572370e-14, 2.74613208e-10, -8.59156457e-07, 1.60246515e-03, 4.73345295e-01])\n",
    "}\n",
    "\n",
    "def fitted_selection(sample, strategy_id, quantile, params_n=5):\n",
    "    loss_strategy = lost.loss_strategy_dict[strategy_id]\n",
    "    loss = loss_strategy(sample)\n",
    "    loss_cut = cut_polys_par5[quantile] if params_n == 5 else cut_polys_par3[quantile]\n",
    "    return loss > loss_cut(sample['mJJ'])\n",
    "\n"
   ]
  },
  {
   "cell_type": "code",
   "execution_count": 4,
   "metadata": {},
   "outputs": [],
   "source": [
    "#****************************************#\n",
    "#           run parameters\n",
    "#****************************************#\n",
    "\n",
    "# signals\n",
    "resonance = 'na'\n",
    "signals = ['GtoWW15'+resonance+'Reco', 'GtoWW25'+resonance+'Reco', 'GtoWW35'+resonance+'Reco', 'GtoWW45'+resonance+'Reco']\n",
    "masses = [1500, 2500, 3500, 4500]\n",
    "xsec = 0.\n",
    "quantiles = [0.1, 0.9, 0.99]\n",
    "\n",
    "\n",
    "\n",
    "Parameters = recordtype('Parameters','run_n, qcd_sample_id, qcd_ext_sample_id, qcd_train_sample_id, qcd_test_sample_id, sig_sample_id, strategy_id, read_n')\n",
    "params = Parameters(run_n=113, \n",
    "                    qcd_sample_id='qcdSigReco', \n",
    "                    qcd_ext_sample_id='qcdSigExtReco',\n",
    "                    qcd_train_sample_id='qcdSigAllTrainReco', \n",
    "                    qcd_test_sample_id='qcdSigAllTestReco',\n",
    "                    sig_sample_id=None, # set sig id later in loop\n",
    "                    strategy_id='rk5_05',\n",
    "                    read_n=None)\n"
   ]
  },
  {
   "cell_type": "code",
   "execution_count": 5,
   "metadata": {},
   "outputs": [],
   "source": [
    "#****************************************#\n",
    "#           read in data\n",
    "#****************************************#\n",
    "\n",
    "paths = sf.SamplePathDirFactory(sdfr.path_dict).update_base_path({'$run$': 'run_'+str(params.run_n)})"
   ]
  },
  {
   "cell_type": "code",
   "execution_count": 6,
   "metadata": {},
   "outputs": [],
   "source": [
    "sample_id = 'qcdSigAllTestReco'"
   ]
  },
  {
   "cell_type": "code",
   "execution_count": 7,
   "metadata": {},
   "outputs": [
    {
     "name": "stdout",
     "output_type": "stream",
     "text": [
      "[DataReader] read_jet_features_from_dir(): reading all events from /eos/user/k/kiwoznia/data/VAE_results/events/run_113/qcd_sqrtshatTeV_13TeV_PU40_NEW_ALL_Test_signalregion_parts\n",
      "7671759 events read in 1 files in dir /eos/user/k/kiwoznia/data/VAE_results/events/run_113/qcd_sqrtshatTeV_13TeV_PU40_NEW_ALL_Test_signalregion_parts\n"
     ]
    }
   ],
   "source": [
    "sample = js.JetSample.from_input_dir(sample_id, paths.sample_dir_path(sample_id), **cuts.signalregion_cuts)"
   ]
  },
  {
   "cell_type": "code",
   "execution_count": 8,
   "metadata": {},
   "outputs": [],
   "source": [
    "quantile = 0.99"
   ]
  },
  {
   "cell_type": "code",
   "execution_count": 9,
   "metadata": {},
   "outputs": [],
   "source": [
    "# using inverted quantile because of dijet fit code\n",
    "inv_quant = round((1.-quantile),2)\n",
    "\n",
    "#print('predicting {}'.format(sample.name))\n",
    "selection = fitted_selection(sample, params.strategy_id, quantile)\n",
    "sample.add_feature('sel_q{:02}'.format(int(inv_quant*100)), selection)"
   ]
  },
  {
   "cell_type": "code",
   "execution_count": 10,
   "metadata": {},
   "outputs": [],
   "source": [
    "accepted = sample.accepted(inv_quant)\n",
    "rejected = sample.rejected(inv_quant)"
   ]
  },
  {
   "cell_type": "code",
   "execution_count": 11,
   "metadata": {},
   "outputs": [
    {
     "data": {
      "text/plain": [
       "<matplotlib.legend.Legend at 0x7f628c5958d0>"
      ]
     },
     "execution_count": 11,
     "metadata": {},
     "output_type": "execute_result"
    },
    {
     "data": {
      "image/png": "[encoded data removed]",
      "text/plain": [
       "<Figure size 432x288 with 1 Axes>"
      ]
     },
     "metadata": {
      "needs_background": "light"
     },
     "output_type": "display_data"
    }
   ],
   "source": [
    "import matplotlib.pyplot as plt\n",
    "_ = plt.hist([accepted['mJJ'], rejected['mJJ']], bins=100, histtype='step')\n",
    "plt.yscale('log')\n",
    "plt.legend(['acc', 'rej'])"
   ]
  },
  {
   "cell_type": "code",
   "execution_count": 12,
   "metadata": {},
   "outputs": [],
   "source": [
    "param_dict = {'$sig_name$': sample_id, '$sig_xsec$': str(int(xsec)), '$loss_strat$': params.strategy_id}\n",
    "experiment = ex.Experiment(run_n=params.run_n, param_dict=param_dict).setup(model_dir_qr=True, analysis_dir_qr=True)\n",
    "result_paths = sf.SamplePathDirFactory(sdfs.path_dict).update_base_path({'$run$': str(params.run_n), **param_dict}) # in selection paths new format with run_x, sig_x, ..."
   ]
  },
  {
   "cell_type": "code",
   "execution_count": 13,
   "metadata": {},
   "outputs": [
    {
     "data": {
      "text/plain": [
       "'/eos/user/k/kiwoznia/data/QR_results/events/run_113/sig_qcdSigAllTestReco/xsec_0/loss_rk5_05'"
      ]
     },
     "execution_count": 13,
     "metadata": {},
     "output_type": "execute_result"
    }
   ],
   "source": [
    "result_paths.base_dir"
   ]
  },
  {
   "cell_type": "code",
   "execution_count": 14,
   "metadata": {},
   "outputs": [
    {
     "data": {
      "text/plain": [
       "'/eos/user/k/kiwoznia/data/QR_results/events/run_113/sig_qcdSigAllTestReco/xsec_0/loss_rk5_05/qcd_sqrtshatTeV_13TeV_PU40_NEW_ALL_Test_reco.h5'"
      ]
     },
     "execution_count": 14,
     "metadata": {},
     "output_type": "execute_result"
    }
   ],
   "source": [
    "result_paths.sample_file_path(sample_id)"
   ]
  },
  {
   "cell_type": "code",
   "execution_count": null,
   "metadata": {},
   "outputs": [],
   "source": []
  }
 ],
 "metadata": {
  "kernelspec": {
   "display_name": "Python 3",
   "language": "python",
   "name": "python3"
  },
  "language_info": {
   "codemirror_mode": {
    "name": "ipython",
    "version": 3
   },
   "file_extension": ".py",
   "mimetype": "text/x-python",
   "name": "python",
   "nbconvert_exporter": "python",
   "pygments_lexer": "ipython3",
   "version": "3.6.8"
  }
 },
 "nbformat": 4,
 "nbformat_minor": 2
}
