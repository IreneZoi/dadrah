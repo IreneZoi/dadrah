{
 "cells": [
  {
   "cell_type": "code",
   "execution_count": 1,
   "metadata": {},
   "outputs": [
    {
     "name": "stdout",
     "output_type": "stream",
     "text": [
      "setGPU: Setting GPU to: 0\n"
     ]
    }
   ],
   "source": [
    "import tensorflow as tf\n",
    "import numpy as np\n",
    "import setGPU"
   ]
  },
  {
   "cell_type": "code",
   "execution_count": 2,
   "metadata": {},
   "outputs": [
    {
     "data": {
      "text/plain": [
       "'2.1.0'"
      ]
     },
     "execution_count": 2,
     "metadata": {},
     "output_type": "execute_result"
    }
   ],
   "source": [
    "tf.__version__"
   ]
  },
  {
   "cell_type": "code",
   "execution_count": 3,
   "metadata": {},
   "outputs": [
    {
     "name": "stdout",
     "output_type": "stream",
     "text": [
      "tf.Tensor([0. 1. 2. 3. 4. 5. 6. 7. 8. 9.], shape=(10,), dtype=float32)\n",
      "tf.Tensor([ 0.  2.  4.  6.  8. 10. 12. 14. 16. 18.], shape=(10,), dtype=float32)\n",
      "tf.Tensor([ 1.  3.  5.  7.  9. 11. 13. 15. 17. 19.], shape=(10,), dtype=float32)\n"
     ]
    }
   ],
   "source": [
    "t = tf.range(0., 10.)\n",
    "print(t)\n",
    "t = t * 2\n",
    "print(t)\n",
    "t = t + 1\n",
    "print(t)"
   ]
  },
  {
   "cell_type": "code",
   "execution_count": 4,
   "metadata": {},
   "outputs": [
    {
     "name": "stdout",
     "output_type": "stream",
     "text": [
      "new graph created <dtype: 'float32'> (10,)\n",
      "Tensor(\"mul:0\", shape=(10,), dtype=float32)\n",
      "Tensor(\"add:0\", shape=(10,), dtype=float32)\n"
     ]
    },
    {
     "data": {
      "text/plain": [
       "<tf.Tensor: shape=(10,), dtype=float32, numpy=array([ 1.,  3.,  5.,  7.,  9., 11., 13., 15., 17., 19.], dtype=float32)>"
      ]
     },
     "execution_count": 4,
     "metadata": {},
     "output_type": "execute_result"
    }
   ],
   "source": [
    "@tf.function\n",
    "def my_func(t):\n",
    "    print(\"new graph created\", t.dtype, t.shape)\n",
    "    t = t * 2\n",
    "    print(t)\n",
    "    t = t + 1\n",
    "    print(t)\n",
    "    return t\n",
    "\n",
    "t = tf.range(0., 10.)\n",
    "my_func(t)"
   ]
  },
  {
   "cell_type": "code",
   "execution_count": 5,
   "metadata": {},
   "outputs": [
    {
     "name": "stdout",
     "output_type": "stream",
     "text": [
      "[0. 1. 2. 3. 4. 5. 6. 7. 8. 9.]\n"
     ]
    }
   ],
   "source": [
    "print(t.numpy())"
   ]
  },
  {
   "cell_type": "code",
   "execution_count": 6,
   "metadata": {},
   "outputs": [
    {
     "data": {
      "text/plain": [
       "<tf.Tensor: shape=(10,), dtype=float32, numpy=array([21., 23., 25., 27., 29., 31., 33., 35., 37., 39.], dtype=float32)>"
      ]
     },
     "execution_count": 6,
     "metadata": {},
     "output_type": "execute_result"
    }
   ],
   "source": [
    "my_func(tf.range(10., 20.))"
   ]
  },
  {
   "cell_type": "code",
   "execution_count": 7,
   "metadata": {},
   "outputs": [
    {
     "name": "stdout",
     "output_type": "stream",
     "text": [
      "new graph created <dtype: 'float32'> (11,)\n",
      "Tensor(\"mul:0\", shape=(11,), dtype=float32)\n",
      "Tensor(\"add:0\", shape=(11,), dtype=float32)\n",
      "---\n",
      "new graph created <dtype: 'int32'> (10,)\n",
      "Tensor(\"mul:0\", shape=(10,), dtype=int32)\n",
      "Tensor(\"add:0\", shape=(10,), dtype=int32)\n"
     ]
    },
    {
     "data": {
      "text/plain": [
       "<tf.Tensor: shape=(10,), dtype=int32, numpy=array([21, 23, 25, 27, 29, 31, 33, 35, 37, 39], dtype=int32)>"
      ]
     },
     "execution_count": 7,
     "metadata": {},
     "output_type": "execute_result"
    }
   ],
   "source": [
    "my_func(tf.range(10., 21.))\n",
    "print(\"---\")\n",
    "my_func(tf.range(10, 20, dtype=tf.int32))"
   ]
  },
  {
   "cell_type": "code",
   "execution_count": 3,
   "metadata": {},
   "outputs": [],
   "source": [
    "import dadrah.playground.test_gradient_tape as tegrta"
   ]
  },
  {
   "cell_type": "code",
   "execution_count": 4,
   "metadata": {},
   "outputs": [
    {
     "name": "stdout",
     "output_type": "stream",
     "text": [
      "Model: \"model\"\n",
      "_________________________________________________________________\n",
      "Layer (type)                 Output Shape              Param #   \n",
      "=================================================================\n",
      "input_1 (InputLayer)         [(None, 1)]               0         \n",
      "_________________________________________________________________\n",
      "feature_normalization (Featu (None, 1)                 0         \n",
      "_________________________________________________________________\n",
      "dense (Dense)                (None, 20)                40        \n",
      "_________________________________________________________________\n",
      "dense_1 (Dense)              (None, 20)                420       \n",
      "_________________________________________________________________\n",
      "dense_2 (Dense)              (None, 20)                420       \n",
      "_________________________________________________________________\n",
      "dense_3 (Dense)              (None, 1)                 21        \n",
      "=================================================================\n",
      "Total params: 901\n",
      "Trainable params: 901\n",
      "Non-trainable params: 0\n",
      "_________________________________________________________________\n",
      "None\n"
     ]
    }
   ],
   "source": [
    "from importlib import reload\n",
    "reload(tegrta)\n",
    "model = tegrta.make_model()\n",
    "print(model.summary())"
   ]
  },
  {
   "cell_type": "code",
   "execution_count": 5,
   "metadata": {},
   "outputs": [
    {
     "name": "stdout",
     "output_type": "stream",
     "text": [
      "[0. 1. 2. 3. 4. 5. 6. 7. 8. 9.]\n",
      "[5.74078807 4.49240333 4.83217408 6.26803847 8.1283458  5.85762376\n",
      " 4.37126549 7.37263836 9.57592416 6.51941307]\n",
      "[-5.74078807 -3.49240333 -2.83217408 -3.26803847 -4.1283458  -0.85762376\n",
      "  1.62873451 -0.37263836 -1.57592416  2.48058693]\n"
     ]
    }
   ],
   "source": [
    "targets = np.arange(0.,10.)\n",
    "predictions = np.random.random(size=10)*10\n",
    "print(targets)\n",
    "print(predictions)\n",
    "print(targets-predictions)"
   ]
  },
  {
   "cell_type": "code",
   "execution_count": 6,
   "metadata": {},
   "outputs": [],
   "source": [
    "quantile_loss = tegrta.make_quantile_loss(np.mean(targets), np.var(targets))"
   ]
  },
  {
   "cell_type": "code",
   "execution_count": 7,
   "metadata": {},
   "outputs": [
    {
     "name": "stdout",
     "output_type": "stream",
     "text": [
      "tf.Tensor(\n",
      "[0.62862426 0.49166458 0.51352044 0.64498567 0.81889519 0.57970177\n",
      " 0.41894473 0.70696081 0.91516817 0.59739585], shape=(10,), dtype=float64)\n"
     ]
    }
   ],
   "source": [
    "print(quantile_loss(targets, predictions))"
   ]
  },
  {
   "cell_type": "code",
   "execution_count": 8,
   "metadata": {},
   "outputs": [
    {
     "name": "stdout",
     "output_type": "stream",
     "text": [
      "tf.Tensor(\n",
      "[0.62862426 0.49166458 0.51352044 0.64498567 0.81889519 0.57970177\n",
      " 0.41894473 0.70696081 0.91516817 0.59739585], shape=(10,), dtype=float64)\n"
     ]
    }
   ],
   "source": [
    "print(quantile_loss(targets, predictions))"
   ]
  },
  {
   "cell_type": "code",
   "execution_count": 9,
   "metadata": {},
   "outputs": [],
   "source": [
    "optimizer = tf.keras.optimizers.Adam(0.005)"
   ]
  },
  {
   "cell_type": "code",
   "execution_count": 10,
   "metadata": {},
   "outputs": [],
   "source": [
    "x = tf.random.uniform([300, 1], minval=1, maxval=3000, dtype=tf.float32)"
   ]
  },
  {
   "cell_type": "code",
   "execution_count": 11,
   "metadata": {},
   "outputs": [
    {
     "data": {
      "text/plain": [
       "TensorShape([300, 1])"
      ]
     },
     "execution_count": 11,
     "metadata": {},
     "output_type": "execute_result"
    }
   ],
   "source": [
    "x.shape"
   ]
  },
  {
   "cell_type": "code",
   "execution_count": 12,
   "metadata": {},
   "outputs": [],
   "source": [
    "y = tf.random.uniform([300,1], minval=1, maxval=10, dtype=tf.float32)"
   ]
  },
  {
   "cell_type": "code",
   "execution_count": 13,
   "metadata": {},
   "outputs": [],
   "source": [
    "train_dataset = tf.data.Dataset.from_tensor_slices((x, y)).batch(32)"
   ]
  },
  {
   "cell_type": "code",
   "execution_count": 14,
   "metadata": {},
   "outputs": [],
   "source": [
    "quantile_loss = tegrta.make_quantile_loss(np.mean(y), np.var(y))"
   ]
  },
  {
   "cell_type": "code",
   "execution_count": 15,
   "metadata": {},
   "outputs": [
    {
     "name": "stdout",
     "output_type": "stream",
     "text": [
      "\n",
      "Start of epoch 0\n",
      "Training loss (for one batch) at step 0: 408.56719970703125\n",
      "Seen so far: 32 samples\n",
      "Training loss (for one batch) at step 2: 610.732177734375\n",
      "Seen so far: 96 samples\n",
      "Training loss (for one batch) at step 4: 75.10333251953125\n",
      "Seen so far: 160 samples\n",
      "Training loss (for one batch) at step 6: 182.886474609375\n",
      "Seen so far: 224 samples\n",
      "Training loss (for one batch) at step 8: 160.21493530273438\n",
      "Seen so far: 288 samples\n",
      "\n",
      "Start of epoch 1\n",
      "Training loss (for one batch) at step 0: 151.64012145996094\n",
      "Seen so far: 32 samples\n",
      "Training loss (for one batch) at step 2: 97.97803497314453\n",
      "Seen so far: 96 samples\n",
      "Training loss (for one batch) at step 4: 38.00904083251953\n",
      "Seen so far: 160 samples\n",
      "Training loss (for one batch) at step 6: 340.62115478515625\n",
      "Seen so far: 224 samples\n",
      "Training loss (for one batch) at step 8: 57.522300720214844\n",
      "Seen so far: 288 samples\n"
     ]
    }
   ],
   "source": [
    "epochs = 2\n",
    "for epoch in range(epochs):\n",
    "    print(\"\\nStart of epoch %d\" % (epoch,))\n",
    "\n",
    "    # Iterate over the batches of the dataset.\n",
    "    for step, (x_batch_train, y_batch_train) in enumerate(train_dataset):\n",
    "\n",
    "        # Open a GradientTape to record the operations run\n",
    "        # during the forward pass, which enables auto-differentiation.\n",
    "        with tf.GradientTape() as tape:\n",
    "            predictions = model(x_batch_train, training=True)\n",
    "            loss_value = quantile_loss(y_batch_train, predictions)\n",
    "        \n",
    "        grads = tape.gradient(loss_value, model.trainable_weights)\n",
    "        optimizer.apply_gradients(zip(grads, model.trainable_weights))\n",
    "        if step % 2 == 0:\n",
    "            print(\"Training loss (for one batch) at step {}: {}\".format(step, np.sum(loss_value)))\n",
    "            print(\"Seen so far: %s samples\" % ((step + 1) * 32))\n"
   ]
  },
  {
   "cell_type": "code",
   "execution_count": 16,
   "metadata": {},
   "outputs": [],
   "source": [
    "x_test = tf.random.uniform([300, 1], minval=1, maxval=3000, dtype=tf.float32)"
   ]
  },
  {
   "cell_type": "code",
   "execution_count": 17,
   "metadata": {},
   "outputs": [],
   "source": [
    "y = model.predict(x_test)"
   ]
  },
  {
   "cell_type": "code",
   "execution_count": 18,
   "metadata": {},
   "outputs": [
    {
     "data": {
      "text/plain": [
       "array([[1.33943272e+01],\n",
       "       [8.49972153e+01],\n",
       "       [6.75440674e+01],\n",
       "       [3.78126717e+01],\n",
       "       [2.49080563e+01],\n",
       "       [7.64242249e+01],\n",
       "       [4.26838455e+01],\n",
       "       [7.01208038e+01],\n",
       "       [3.71308250e+01],\n",
       "       [9.70166245e+01],\n",
       "       [7.87173004e+01],\n",
       "       [3.29775505e+01],\n",
       "       [8.75404816e+01],\n",
       "       [2.85773354e+01],\n",
       "       [8.56708050e+00],\n",
       "       [4.68315201e+01],\n",
       "       [6.53647308e+01],\n",
       "       [4.13506126e+01],\n",
       "       [7.85710907e+01],\n",
       "       [8.16198730e+01],\n",
       "       [2.47511158e+01],\n",
       "       [7.53266602e+01],\n",
       "       [3.90911598e+01],\n",
       "       [7.76971207e+01],\n",
       "       [6.66692810e+01],\n",
       "       [8.76261978e+01],\n",
       "       [3.10476437e+01],\n",
       "       [2.12336254e+01],\n",
       "       [1.63540955e+01],\n",
       "       [9.72009659e+01],\n",
       "       [2.27431889e+01],\n",
       "       [1.41934366e+01],\n",
       "       [4.06639595e+01],\n",
       "       [7.95788345e+01],\n",
       "       [2.97757893e+01],\n",
       "       [6.09283295e+01],\n",
       "       [2.14148922e+01],\n",
       "       [9.14779739e+01],\n",
       "       [7.13663769e+00],\n",
       "       [2.99947109e+01],\n",
       "       [5.59435425e+01],\n",
       "       [2.27740002e+01],\n",
       "       [8.25541611e+01],\n",
       "       [6.51206741e+01],\n",
       "       [8.78156757e+00],\n",
       "       [7.92427979e+01],\n",
       "       [1.15117664e+01],\n",
       "       [9.32342987e+01],\n",
       "       [7.51465932e-02],\n",
       "       [1.70739913e+00],\n",
       "       [9.57425213e+00],\n",
       "       [7.98387527e+01],\n",
       "       [6.04894218e+01],\n",
       "       [2.19674540e+00],\n",
       "       [2.82516289e+01],\n",
       "       [1.28419313e+01],\n",
       "       [3.99421425e+01],\n",
       "       [1.27410908e+01],\n",
       "       [6.63062897e+01],\n",
       "       [9.33688583e+01],\n",
       "       [8.51559906e+01],\n",
       "       [5.05901814e+00],\n",
       "       [3.13657513e+01],\n",
       "       [5.03011169e+01],\n",
       "       [1.17626352e+01],\n",
       "       [7.88750534e+01],\n",
       "       [1.39888535e+01],\n",
       "       [9.31758804e+01],\n",
       "       [3.31897736e+01],\n",
       "       [5.14223747e+01],\n",
       "       [2.24070435e+01],\n",
       "       [6.85873260e+01],\n",
       "       [9.85265121e+01],\n",
       "       [6.60216713e+00],\n",
       "       [4.14918041e+00],\n",
       "       [6.28920975e+01],\n",
       "       [4.89310989e+01],\n",
       "       [5.75931549e+01],\n",
       "       [9.65628815e+01],\n",
       "       [8.71674957e+01],\n",
       "       [9.20790024e+01],\n",
       "       [8.78509293e+01],\n",
       "       [7.82395248e+01],\n",
       "       [4.89281960e+01],\n",
       "       [6.89751892e+01],\n",
       "       [5.40025635e+01],\n",
       "       [7.66567078e+01],\n",
       "       [5.04485855e+01],\n",
       "       [2.81889782e+01],\n",
       "       [8.64838638e+01],\n",
       "       [3.13427124e+01],\n",
       "       [3.60203314e+00],\n",
       "       [1.53079967e+01],\n",
       "       [3.96448402e+01],\n",
       "       [3.10354462e+01],\n",
       "       [4.75410233e+01],\n",
       "       [2.87874699e+01],\n",
       "       [7.70495224e+01],\n",
       "       [8.59494400e+00],\n",
       "       [4.21674156e+01],\n",
       "       [4.33540039e+01],\n",
       "       [2.33205929e+01],\n",
       "       [2.73004875e+01],\n",
       "       [8.67715225e+01],\n",
       "       [5.83894043e+01],\n",
       "       [2.37744827e+01],\n",
       "       [2.01882133e+01],\n",
       "       [9.14748917e+01],\n",
       "       [1.13432980e+01],\n",
       "       [9.62712955e+00],\n",
       "       [4.89670563e+01],\n",
       "       [8.30146408e+01],\n",
       "       [8.90190506e+01],\n",
       "       [8.28146820e+01],\n",
       "       [3.95115929e+01],\n",
       "       [1.39728384e+01],\n",
       "       [7.73837433e+01],\n",
       "       [2.19956036e+01],\n",
       "       [7.94513016e+01],\n",
       "       [4.29445534e+01],\n",
       "       [8.50837860e+01],\n",
       "       [6.99559250e+01],\n",
       "       [7.38180237e+01],\n",
       "       [1.40179234e+01],\n",
       "       [8.92044296e+01],\n",
       "       [9.00086823e+01],\n",
       "       [5.10540047e+01],\n",
       "       [1.29697104e+01],\n",
       "       [2.90500088e+01],\n",
       "       [9.68904877e+01],\n",
       "       [2.22722015e+01],\n",
       "       [9.74171925e+00],\n",
       "       [6.21861115e+01],\n",
       "       [5.26725349e+01],\n",
       "       [1.02390468e+00],\n",
       "       [8.37609940e+01],\n",
       "       [4.13224077e+00],\n",
       "       [7.65409470e+01],\n",
       "       [3.08258057e+01],\n",
       "       [5.42417641e+01],\n",
       "       [1.91455212e+01],\n",
       "       [5.85718079e+01],\n",
       "       [7.81140747e+01],\n",
       "       [4.41525879e+01],\n",
       "       [9.53605881e+01],\n",
       "       [6.41882629e+01],\n",
       "       [8.31294022e+01],\n",
       "       [8.09885025e+01],\n",
       "       [4.90005417e+01],\n",
       "       [4.84547806e+01],\n",
       "       [9.07702866e+01],\n",
       "       [7.92156906e+01],\n",
       "       [8.97980042e+01],\n",
       "       [1.26817579e+01],\n",
       "       [4.72182388e+01],\n",
       "       [3.37271805e+01],\n",
       "       [1.77637501e+01],\n",
       "       [7.70949631e+01],\n",
       "       [4.15417671e-01],\n",
       "       [6.50111694e+01],\n",
       "       [2.99829426e+01],\n",
       "       [8.72802963e+01],\n",
       "       [5.59895706e+01],\n",
       "       [4.57014084e+01],\n",
       "       [2.01626263e+01],\n",
       "       [9.59772720e+01],\n",
       "       [1.35027256e+01],\n",
       "       [7.20162430e+01],\n",
       "       [7.41440735e+01],\n",
       "       [4.40767899e+01],\n",
       "       [1.47282162e+01],\n",
       "       [8.73907242e+01],\n",
       "       [3.32998810e+01],\n",
       "       [1.42793665e+01],\n",
       "       [1.86723270e+01],\n",
       "       [9.30914001e+01],\n",
       "       [2.12191849e+01],\n",
       "       [8.62055893e+01],\n",
       "       [1.84322033e+01],\n",
       "       [1.65334206e+01],\n",
       "       [8.67933884e+01],\n",
       "       [5.59819984e+01],\n",
       "       [5.22383194e+01],\n",
       "       [1.20223045e+01],\n",
       "       [1.69852948e+00],\n",
       "       [7.40922394e+01],\n",
       "       [3.43059158e+01],\n",
       "       [4.10092735e+01],\n",
       "       [7.78334198e+01],\n",
       "       [7.68308487e+01],\n",
       "       [8.13229370e+01],\n",
       "       [8.53823853e+01],\n",
       "       [9.80008602e+00],\n",
       "       [7.72875824e+01],\n",
       "       [8.37509460e+01],\n",
       "       [9.51645279e+01],\n",
       "       [4.30133514e+01],\n",
       "       [2.33305397e+01],\n",
       "       [9.39440155e+01],\n",
       "       [2.14756374e+01],\n",
       "       [1.55296764e+01],\n",
       "       [6.26778870e+01],\n",
       "       [5.81686554e+01],\n",
       "       [3.17662563e+01],\n",
       "       [6.69635239e+01],\n",
       "       [7.57524796e+01],\n",
       "       [9.83019104e+01],\n",
       "       [4.63724937e+01],\n",
       "       [6.81964417e+01],\n",
       "       [7.95356064e+01],\n",
       "       [4.57853165e+01],\n",
       "       [2.01892147e+01],\n",
       "       [8.04454651e+01],\n",
       "       [3.20424366e+00],\n",
       "       [1.75394650e+01],\n",
       "       [3.75909271e+01],\n",
       "       [4.92554283e+01],\n",
       "       [6.52443695e+01],\n",
       "       [1.87005768e+01],\n",
       "       [5.48423233e+01],\n",
       "       [1.57085752e+01],\n",
       "       [3.53649216e+01],\n",
       "       [6.86241074e+01],\n",
       "       [3.34894218e+01],\n",
       "       [3.12903366e+01],\n",
       "       [6.22020798e+01],\n",
       "       [9.45395889e+01],\n",
       "       [9.58072739e+01],\n",
       "       [2.91079674e+01],\n",
       "       [8.29213028e+01],\n",
       "       [4.86386566e+01],\n",
       "       [7.62204437e+01],\n",
       "       [8.82524796e+01],\n",
       "       [9.03456345e+01],\n",
       "       [5.93730783e+00],\n",
       "       [4.68232498e+01],\n",
       "       [3.25091629e+01],\n",
       "       [2.06281624e+01],\n",
       "       [9.82929306e+01],\n",
       "       [3.83472786e+01],\n",
       "       [7.26093750e+01],\n",
       "       [7.34524918e+01],\n",
       "       [3.81546211e+01],\n",
       "       [3.75400043e+00],\n",
       "       [6.47559128e+01],\n",
       "       [9.74064713e+01],\n",
       "       [6.98324509e+01],\n",
       "       [5.84385872e+01],\n",
       "       [9.46304855e+01],\n",
       "       [4.18184891e+01],\n",
       "       [1.46462631e+01],\n",
       "       [3.70379868e+01],\n",
       "       [1.61115589e+01],\n",
       "       [4.87370224e+01],\n",
       "       [6.93290558e+01],\n",
       "       [9.52982559e+01],\n",
       "       [5.96112299e+00],\n",
       "       [8.57138290e+01],\n",
       "       [7.91977768e+01],\n",
       "       [8.19454651e+01],\n",
       "       [2.30531216e+01],\n",
       "       [1.30837536e+00],\n",
       "       [9.76282501e+01],\n",
       "       [7.47544022e+01],\n",
       "       [7.03387928e+00],\n",
       "       [6.80415039e+01],\n",
       "       [1.40515184e+01],\n",
       "       [3.18835735e+01],\n",
       "       [9.33122177e+01],\n",
       "       [1.31578550e+01],\n",
       "       [8.06924210e+01],\n",
       "       [1.68714161e+01],\n",
       "       [8.59809799e+01],\n",
       "       [5.34062042e+01],\n",
       "       [3.61743355e+01],\n",
       "       [3.00430641e+01],\n",
       "       [9.32058640e+01],\n",
       "       [5.99566746e+00],\n",
       "       [7.33394470e+01],\n",
       "       [9.15127335e+01],\n",
       "       [1.47256727e+01],\n",
       "       [9.17920456e+01],\n",
       "       [4.61920624e+01],\n",
       "       [8.81324844e+01],\n",
       "       [4.07732964e+01],\n",
       "       [3.01049004e+01],\n",
       "       [3.37576065e+01],\n",
       "       [2.45373592e+01],\n",
       "       [7.20602646e+01],\n",
       "       [9.14150314e+01],\n",
       "       [2.39258900e+01],\n",
       "       [6.11037750e+01],\n",
       "       [5.42061157e+01],\n",
       "       [5.04685898e+01],\n",
       "       [1.67920456e+01],\n",
       "       [7.48599625e+01],\n",
       "       [9.61592255e+01],\n",
       "       [4.05505142e+01],\n",
       "       [3.11155281e+01],\n",
       "       [7.31890202e+00]], dtype=float32)"
      ]
     },
     "execution_count": 18,
     "metadata": {},
     "output_type": "execute_result"
    }
   ],
   "source": [
    "y"
   ]
  },
  {
   "cell_type": "code",
   "execution_count": 19,
   "metadata": {},
   "outputs": [],
   "source": [
    "weights = model.get_weights()"
   ]
  },
  {
   "cell_type": "code",
   "execution_count": 20,
   "metadata": {},
   "outputs": [],
   "source": [
    "model.save('./my_model.h5')"
   ]
  },
  {
   "cell_type": "code",
   "execution_count": 21,
   "metadata": {},
   "outputs": [
    {
     "ename": "TypeError",
     "evalue": "__init__() missing 2 required positional arguments: 'mean_input' and 'var_input'",
     "output_type": "error",
     "traceback": [
      "\u001b[0;31m---------------------------------------------------------------------------\u001b[0m",
      "\u001b[0;31mTypeError\u001b[0m                                 Traceback (most recent call last)",
      "\u001b[0;32m<ipython-input-21-4d87e14457cd>\u001b[0m in \u001b[0;36m<module>\u001b[0;34m\u001b[0m\n\u001b[1;32m      1\u001b[0m \u001b[0mreload\u001b[0m\u001b[0;34m(\u001b[0m\u001b[0mtegrta\u001b[0m\u001b[0;34m)\u001b[0m\u001b[0;34m\u001b[0m\u001b[0m\n\u001b[0;32m----> 2\u001b[0;31m \u001b[0mloaded_model\u001b[0m \u001b[0;34m=\u001b[0m \u001b[0mtf\u001b[0m\u001b[0;34m.\u001b[0m\u001b[0mkeras\u001b[0m\u001b[0;34m.\u001b[0m\u001b[0mmodels\u001b[0m\u001b[0;34m.\u001b[0m\u001b[0mload_model\u001b[0m\u001b[0;34m(\u001b[0m\u001b[0;34m'./my_model.h5'\u001b[0m\u001b[0;34m,\u001b[0m \u001b[0mcustom_objects\u001b[0m\u001b[0;34m=\u001b[0m\u001b[0;34m{\u001b[0m\u001b[0;34m'FeatureNormalization'\u001b[0m\u001b[0;34m:\u001b[0m \u001b[0mtegrta\u001b[0m\u001b[0;34m.\u001b[0m\u001b[0mFeatureNormalization\u001b[0m\u001b[0;34m}\u001b[0m\u001b[0;34m)\u001b[0m\u001b[0;34m\u001b[0m\u001b[0m\n\u001b[0m",
      "\u001b[0;32m~/.local/lib/python3.6/site-packages/tensorflow_core/python/keras/saving/save.py\u001b[0m in \u001b[0;36mload_model\u001b[0;34m(filepath, custom_objects, compile)\u001b[0m\n\u001b[1;32m    144\u001b[0m   if (h5py is not None and (\n\u001b[1;32m    145\u001b[0m       isinstance(filepath, h5py.File) or h5py.is_hdf5(filepath))):\n\u001b[0;32m--> 146\u001b[0;31m     \u001b[0;32mreturn\u001b[0m \u001b[0mhdf5_format\u001b[0m\u001b[0;34m.\u001b[0m\u001b[0mload_model_from_hdf5\u001b[0m\u001b[0;34m(\u001b[0m\u001b[0mfilepath\u001b[0m\u001b[0;34m,\u001b[0m \u001b[0mcustom_objects\u001b[0m\u001b[0;34m,\u001b[0m \u001b[0mcompile\u001b[0m\u001b[0;34m)\u001b[0m\u001b[0;34m\u001b[0m\u001b[0m\n\u001b[0m\u001b[1;32m    147\u001b[0m \u001b[0;34m\u001b[0m\u001b[0m\n\u001b[1;32m    148\u001b[0m   \u001b[0;32mif\u001b[0m \u001b[0misinstance\u001b[0m\u001b[0;34m(\u001b[0m\u001b[0mfilepath\u001b[0m\u001b[0;34m,\u001b[0m \u001b[0msix\u001b[0m\u001b[0;34m.\u001b[0m\u001b[0mstring_types\u001b[0m\u001b[0;34m)\u001b[0m\u001b[0;34m:\u001b[0m\u001b[0;34m\u001b[0m\u001b[0m\n",
      "\u001b[0;32m~/.local/lib/python3.6/site-packages/tensorflow_core/python/keras/saving/hdf5_format.py\u001b[0m in \u001b[0;36mload_model_from_hdf5\u001b[0;34m(filepath, custom_objects, compile)\u001b[0m\n\u001b[1;32m    166\u001b[0m     \u001b[0mmodel_config\u001b[0m \u001b[0;34m=\u001b[0m \u001b[0mjson\u001b[0m\u001b[0;34m.\u001b[0m\u001b[0mloads\u001b[0m\u001b[0;34m(\u001b[0m\u001b[0mmodel_config\u001b[0m\u001b[0;34m.\u001b[0m\u001b[0mdecode\u001b[0m\u001b[0;34m(\u001b[0m\u001b[0;34m'utf-8'\u001b[0m\u001b[0;34m)\u001b[0m\u001b[0;34m)\u001b[0m\u001b[0;34m\u001b[0m\u001b[0m\n\u001b[1;32m    167\u001b[0m     model = model_config_lib.model_from_config(model_config,\n\u001b[0;32m--> 168\u001b[0;31m                                                custom_objects=custom_objects)\n\u001b[0m\u001b[1;32m    169\u001b[0m \u001b[0;34m\u001b[0m\u001b[0m\n\u001b[1;32m    170\u001b[0m     \u001b[0;31m# set weights\u001b[0m\u001b[0;34m\u001b[0m\u001b[0;34m\u001b[0m\u001b[0m\n",
      "\u001b[0;32m~/.local/lib/python3.6/site-packages/tensorflow_core/python/keras/saving/model_config.py\u001b[0m in \u001b[0;36mmodel_from_config\u001b[0;34m(config, custom_objects)\u001b[0m\n\u001b[1;32m     53\u001b[0m                     '`Sequential.from_config(config)`?')\n\u001b[1;32m     54\u001b[0m   \u001b[0;32mfrom\u001b[0m \u001b[0mtensorflow\u001b[0m\u001b[0;34m.\u001b[0m\u001b[0mpython\u001b[0m\u001b[0;34m.\u001b[0m\u001b[0mkeras\u001b[0m\u001b[0;34m.\u001b[0m\u001b[0mlayers\u001b[0m \u001b[0;32mimport\u001b[0m \u001b[0mdeserialize\u001b[0m  \u001b[0;31m# pylint: disable=g-import-not-at-top\u001b[0m\u001b[0;34m\u001b[0m\u001b[0m\n\u001b[0;32m---> 55\u001b[0;31m   \u001b[0;32mreturn\u001b[0m \u001b[0mdeserialize\u001b[0m\u001b[0;34m(\u001b[0m\u001b[0mconfig\u001b[0m\u001b[0;34m,\u001b[0m \u001b[0mcustom_objects\u001b[0m\u001b[0;34m=\u001b[0m\u001b[0mcustom_objects\u001b[0m\u001b[0;34m)\u001b[0m\u001b[0;34m\u001b[0m\u001b[0m\n\u001b[0m\u001b[1;32m     56\u001b[0m \u001b[0;34m\u001b[0m\u001b[0m\n\u001b[1;32m     57\u001b[0m \u001b[0;34m\u001b[0m\u001b[0m\n",
      "\u001b[0;32m~/.local/lib/python3.6/site-packages/tensorflow_core/python/keras/layers/serialization.py\u001b[0m in \u001b[0;36mdeserialize\u001b[0;34m(config, custom_objects)\u001b[0m\n\u001b[1;32m    104\u001b[0m       \u001b[0mmodule_objects\u001b[0m\u001b[0;34m=\u001b[0m\u001b[0mglobs\u001b[0m\u001b[0;34m,\u001b[0m\u001b[0;34m\u001b[0m\u001b[0m\n\u001b[1;32m    105\u001b[0m       \u001b[0mcustom_objects\u001b[0m\u001b[0;34m=\u001b[0m\u001b[0mcustom_objects\u001b[0m\u001b[0;34m,\u001b[0m\u001b[0;34m\u001b[0m\u001b[0m\n\u001b[0;32m--> 106\u001b[0;31m       printable_module_name='layer')\n\u001b[0m",
      "\u001b[0;32m~/.local/lib/python3.6/site-packages/tensorflow_core/python/keras/utils/generic_utils.py\u001b[0m in \u001b[0;36mdeserialize_keras_object\u001b[0;34m(identifier, module_objects, custom_objects, printable_module_name)\u001b[0m\n\u001b[1;32m    301\u001b[0m             custom_objects=dict(\n\u001b[1;32m    302\u001b[0m                 \u001b[0mlist\u001b[0m\u001b[0;34m(\u001b[0m\u001b[0m_GLOBAL_CUSTOM_OBJECTS\u001b[0m\u001b[0;34m.\u001b[0m\u001b[0mitems\u001b[0m\u001b[0;34m(\u001b[0m\u001b[0;34m)\u001b[0m\u001b[0;34m)\u001b[0m \u001b[0;34m+\u001b[0m\u001b[0;34m\u001b[0m\u001b[0m\n\u001b[0;32m--> 303\u001b[0;31m                 list(custom_objects.items())))\n\u001b[0m\u001b[1;32m    304\u001b[0m       \u001b[0;32mwith\u001b[0m \u001b[0mCustomObjectScope\u001b[0m\u001b[0;34m(\u001b[0m\u001b[0mcustom_objects\u001b[0m\u001b[0;34m)\u001b[0m\u001b[0;34m:\u001b[0m\u001b[0;34m\u001b[0m\u001b[0m\n\u001b[1;32m    305\u001b[0m         \u001b[0;32mreturn\u001b[0m \u001b[0mcls\u001b[0m\u001b[0;34m.\u001b[0m\u001b[0mfrom_config\u001b[0m\u001b[0;34m(\u001b[0m\u001b[0mcls_config\u001b[0m\u001b[0;34m)\u001b[0m\u001b[0;34m\u001b[0m\u001b[0m\n",
      "\u001b[0;32m~/.local/lib/python3.6/site-packages/tensorflow_core/python/keras/engine/network.py\u001b[0m in \u001b[0;36mfrom_config\u001b[0;34m(cls, config, custom_objects)\u001b[0m\n\u001b[1;32m    935\u001b[0m     \"\"\"\n\u001b[1;32m    936\u001b[0m     input_tensors, output_tensors, created_layers = reconstruct_from_config(\n\u001b[0;32m--> 937\u001b[0;31m         config, custom_objects)\n\u001b[0m\u001b[1;32m    938\u001b[0m     model = cls(inputs=input_tensors, outputs=output_tensors,\n\u001b[1;32m    939\u001b[0m                 name=config.get('name'))\n",
      "\u001b[0;32m~/.local/lib/python3.6/site-packages/tensorflow_core/python/keras/engine/network.py\u001b[0m in \u001b[0;36mreconstruct_from_config\u001b[0;34m(config, custom_objects, created_layers)\u001b[0m\n\u001b[1;32m   1891\u001b[0m   \u001b[0;31m# First, we create all layers and enqueue nodes to be processed\u001b[0m\u001b[0;34m\u001b[0m\u001b[0;34m\u001b[0m\u001b[0m\n\u001b[1;32m   1892\u001b[0m   \u001b[0;32mfor\u001b[0m \u001b[0mlayer_data\u001b[0m \u001b[0;32min\u001b[0m \u001b[0mconfig\u001b[0m\u001b[0;34m[\u001b[0m\u001b[0;34m'layers'\u001b[0m\u001b[0;34m]\u001b[0m\u001b[0;34m:\u001b[0m\u001b[0;34m\u001b[0m\u001b[0m\n\u001b[0;32m-> 1893\u001b[0;31m     \u001b[0mprocess_layer\u001b[0m\u001b[0;34m(\u001b[0m\u001b[0mlayer_data\u001b[0m\u001b[0;34m)\u001b[0m\u001b[0;34m\u001b[0m\u001b[0m\n\u001b[0m\u001b[1;32m   1894\u001b[0m   \u001b[0;31m# Then we process nodes in order of layer depth.\u001b[0m\u001b[0;34m\u001b[0m\u001b[0;34m\u001b[0m\u001b[0m\n\u001b[1;32m   1895\u001b[0m   \u001b[0;31m# Nodes that cannot yet be processed (if the inbound node\u001b[0m\u001b[0;34m\u001b[0m\u001b[0;34m\u001b[0m\u001b[0m\n",
      "\u001b[0;32m~/.local/lib/python3.6/site-packages/tensorflow_core/python/keras/engine/network.py\u001b[0m in \u001b[0;36mprocess_layer\u001b[0;34m(layer_data)\u001b[0m\n\u001b[1;32m   1873\u001b[0m       \u001b[0;32mfrom\u001b[0m \u001b[0mtensorflow\u001b[0m\u001b[0;34m.\u001b[0m\u001b[0mpython\u001b[0m\u001b[0;34m.\u001b[0m\u001b[0mkeras\u001b[0m\u001b[0;34m.\u001b[0m\u001b[0mlayers\u001b[0m \u001b[0;32mimport\u001b[0m \u001b[0mdeserialize\u001b[0m \u001b[0;32mas\u001b[0m \u001b[0mdeserialize_layer\u001b[0m  \u001b[0;31m# pylint: disable=g-import-not-at-top\u001b[0m\u001b[0;34m\u001b[0m\u001b[0m\n\u001b[1;32m   1874\u001b[0m \u001b[0;34m\u001b[0m\u001b[0m\n\u001b[0;32m-> 1875\u001b[0;31m       \u001b[0mlayer\u001b[0m \u001b[0;34m=\u001b[0m \u001b[0mdeserialize_layer\u001b[0m\u001b[0;34m(\u001b[0m\u001b[0mlayer_data\u001b[0m\u001b[0;34m,\u001b[0m \u001b[0mcustom_objects\u001b[0m\u001b[0;34m=\u001b[0m\u001b[0mcustom_objects\u001b[0m\u001b[0;34m)\u001b[0m\u001b[0;34m\u001b[0m\u001b[0m\n\u001b[0m\u001b[1;32m   1876\u001b[0m       \u001b[0mcreated_layers\u001b[0m\u001b[0;34m[\u001b[0m\u001b[0mlayer_name\u001b[0m\u001b[0;34m]\u001b[0m \u001b[0;34m=\u001b[0m \u001b[0mlayer\u001b[0m\u001b[0;34m\u001b[0m\u001b[0m\n\u001b[1;32m   1877\u001b[0m \u001b[0;34m\u001b[0m\u001b[0m\n",
      "\u001b[0;32m~/.local/lib/python3.6/site-packages/tensorflow_core/python/keras/layers/serialization.py\u001b[0m in \u001b[0;36mdeserialize\u001b[0;34m(config, custom_objects)\u001b[0m\n\u001b[1;32m    104\u001b[0m       \u001b[0mmodule_objects\u001b[0m\u001b[0;34m=\u001b[0m\u001b[0mglobs\u001b[0m\u001b[0;34m,\u001b[0m\u001b[0;34m\u001b[0m\u001b[0m\n\u001b[1;32m    105\u001b[0m       \u001b[0mcustom_objects\u001b[0m\u001b[0;34m=\u001b[0m\u001b[0mcustom_objects\u001b[0m\u001b[0;34m,\u001b[0m\u001b[0;34m\u001b[0m\u001b[0m\n\u001b[0;32m--> 106\u001b[0;31m       printable_module_name='layer')\n\u001b[0m",
      "\u001b[0;32m~/.local/lib/python3.6/site-packages/tensorflow_core/python/keras/utils/generic_utils.py\u001b[0m in \u001b[0;36mdeserialize_keras_object\u001b[0;34m(identifier, module_objects, custom_objects, printable_module_name)\u001b[0m\n\u001b[1;32m    303\u001b[0m                 list(custom_objects.items())))\n\u001b[1;32m    304\u001b[0m       \u001b[0;32mwith\u001b[0m \u001b[0mCustomObjectScope\u001b[0m\u001b[0;34m(\u001b[0m\u001b[0mcustom_objects\u001b[0m\u001b[0;34m)\u001b[0m\u001b[0;34m:\u001b[0m\u001b[0;34m\u001b[0m\u001b[0m\n\u001b[0;32m--> 305\u001b[0;31m         \u001b[0;32mreturn\u001b[0m \u001b[0mcls\u001b[0m\u001b[0;34m.\u001b[0m\u001b[0mfrom_config\u001b[0m\u001b[0;34m(\u001b[0m\u001b[0mcls_config\u001b[0m\u001b[0;34m)\u001b[0m\u001b[0;34m\u001b[0m\u001b[0m\n\u001b[0m\u001b[1;32m    306\u001b[0m     \u001b[0;32melse\u001b[0m\u001b[0;34m:\u001b[0m\u001b[0;34m\u001b[0m\u001b[0m\n\u001b[1;32m    307\u001b[0m       \u001b[0;31m# Then `cls` may be a function returning a class.\u001b[0m\u001b[0;34m\u001b[0m\u001b[0;34m\u001b[0m\u001b[0m\n",
      "\u001b[0;32m~/.local/lib/python3.6/site-packages/tensorflow_core/python/keras/engine/base_layer.py\u001b[0m in \u001b[0;36mfrom_config\u001b[0;34m(cls, config)\u001b[0m\n\u001b[1;32m    517\u001b[0m         \u001b[0mA\u001b[0m \u001b[0mlayer\u001b[0m \u001b[0minstance\u001b[0m\u001b[0;34m.\u001b[0m\u001b[0;34m\u001b[0m\u001b[0m\n\u001b[1;32m    518\u001b[0m     \"\"\"\n\u001b[0;32m--> 519\u001b[0;31m     \u001b[0;32mreturn\u001b[0m \u001b[0mcls\u001b[0m\u001b[0;34m(\u001b[0m\u001b[0;34m**\u001b[0m\u001b[0mconfig\u001b[0m\u001b[0;34m)\u001b[0m\u001b[0;34m\u001b[0m\u001b[0m\n\u001b[0m\u001b[1;32m    520\u001b[0m \u001b[0;34m\u001b[0m\u001b[0m\n\u001b[1;32m    521\u001b[0m   \u001b[0;32mdef\u001b[0m \u001b[0mcompute_output_shape\u001b[0m\u001b[0;34m(\u001b[0m\u001b[0mself\u001b[0m\u001b[0;34m,\u001b[0m \u001b[0minput_shape\u001b[0m\u001b[0;34m)\u001b[0m\u001b[0;34m:\u001b[0m\u001b[0;34m\u001b[0m\u001b[0m\n",
      "\u001b[0;31mTypeError\u001b[0m: __init__() missing 2 required positional arguments: 'mean_input' and 'var_input'"
     ]
    }
   ],
   "source": [
    "reload(tegrta)\n",
    "loaded_model = tf.keras.models.load_model('./my_model.h5', custom_objects={'FeatureNormalization': tegrta.FeatureNormalization})"
   ]
  },
  {
   "cell_type": "code",
   "execution_count": 27,
   "metadata": {},
   "outputs": [],
   "source": [
    "loaded_weights = loaded_model.get_weights()"
   ]
  },
  {
   "cell_type": "code",
   "execution_count": 28,
   "metadata": {},
   "outputs": [
    {
     "name": "stderr",
     "output_type": "stream",
     "text": [
      "/afs/cern.ch/user/k/kiwoznia/.local/lib/python3.6/site-packages/ipykernel_launcher.py:1: DeprecationWarning: elementwise comparison failed; this will raise an error in the future.\n",
      "  \"\"\"Entry point for launching an IPython kernel.\n"
     ]
    },
    {
     "data": {
      "text/plain": [
       "False"
      ]
     },
     "execution_count": 28,
     "metadata": {},
     "output_type": "execute_result"
    }
   ],
   "source": [
    "np.asarray(loaded_weights) == np.asarray(weights)"
   ]
  },
  {
   "cell_type": "code",
   "execution_count": 29,
   "metadata": {},
   "outputs": [
    {
     "data": {
      "text/plain": [
       "array([[-0.47903162,  0.28525615, -0.06959158, -0.12437147, -0.08485508,\n",
       "        -0.01661247,  0.4193647 , -0.3637167 ,  0.05655042,  0.22925146,\n",
       "        -0.45503235,  0.14597094, -0.09571069, -0.19529825, -0.38948673,\n",
       "        -0.47466895,  0.46109393,  0.4271383 ,  0.15025072, -0.11483219]],\n",
       "      dtype=float32)"
      ]
     },
     "execution_count": 29,
     "metadata": {},
     "output_type": "execute_result"
    }
   ],
   "source": [
    "weights[0]"
   ]
  },
  {
   "cell_type": "code",
   "execution_count": 30,
   "metadata": {},
   "outputs": [
    {
     "data": {
      "text/plain": [
       "array([[-0.47903162,  0.28525615, -0.06959158, -0.12437147, -0.08485508,\n",
       "        -0.01661247,  0.4193647 , -0.3637167 ,  0.05655042,  0.22925146,\n",
       "        -0.45503235,  0.14597094, -0.09571069, -0.19529825, -0.38948673,\n",
       "        -0.47466895,  0.46109393,  0.4271383 ,  0.15025072, -0.11483219]],\n",
       "      dtype=float32)"
      ]
     },
     "execution_count": 30,
     "metadata": {},
     "output_type": "execute_result"
    }
   ],
   "source": [
    "loaded_weights[0]"
   ]
  },
  {
   "cell_type": "code",
   "execution_count": 31,
   "metadata": {},
   "outputs": [
    {
     "data": {
      "text/plain": [
       "array([[ True,  True,  True,  True,  True,  True,  True,  True,  True,\n",
       "         True,  True,  True,  True,  True,  True,  True,  True,  True,\n",
       "         True,  True]])"
      ]
     },
     "execution_count": 31,
     "metadata": {},
     "output_type": "execute_result"
    }
   ],
   "source": [
    "weights[0] == loaded_weights[0]"
   ]
  },
  {
   "cell_type": "code",
   "execution_count": 32,
   "metadata": {},
   "outputs": [
    {
     "name": "stdout",
     "output_type": "stream",
     "text": [
      "True\n",
      "True\n",
      "True\n",
      "True\n",
      "True\n",
      "True\n",
      "True\n",
      "True\n"
     ]
    }
   ],
   "source": [
    "for i in range(len(weights)):\n",
    "    print((np.asarray(weights[i]) == np.asarray(loaded_weights[i])).all())"
   ]
  },
  {
   "cell_type": "code",
   "execution_count": 33,
   "metadata": {},
   "outputs": [
    {
     "name": "stderr",
     "output_type": "stream",
     "text": [
      "/afs/cern.ch/user/k/kiwoznia/.local/lib/python3.6/site-packages/ipykernel_launcher.py:1: DeprecationWarning: elementwise comparison failed; this will raise an error in the future.\n",
      "  \"\"\"Entry point for launching an IPython kernel.\n"
     ]
    },
    {
     "data": {
      "text/plain": [
       "False"
      ]
     },
     "execution_count": 33,
     "metadata": {},
     "output_type": "execute_result"
    }
   ],
   "source": [
    "(np.asarray(weights) == np.asarray(loaded_weights))"
   ]
  },
  {
   "cell_type": "code",
   "execution_count": 34,
   "metadata": {},
   "outputs": [
    {
     "data": {
      "text/plain": [
       "array([array([[-0.47903162,  0.28525615, -0.06959158, -0.12437147, -0.08485508,\n",
       "        -0.01661247,  0.4193647 , -0.3637167 ,  0.05655042,  0.22925146,\n",
       "        -0.45503235,  0.14597094, -0.09571069, -0.19529825, -0.38948673,\n",
       "        -0.47466895,  0.46109393,  0.4271383 ,  0.15025072, -0.11483219]],\n",
       "      dtype=float32),\n",
       "       array([ 0.        ,  0.00455843,  0.        ,  0.        ,  0.        ,\n",
       "        0.        , -0.02051413,  0.        , -0.04273701, -0.00438306,\n",
       "        0.        , -0.01329798,  0.        ,  0.        ,  0.        ,\n",
       "        0.        , -0.02088908, -0.00239613,  0.01232171,  0.        ],\n",
       "      dtype=float32),\n",
       "       array([[-0.0737097 ,  0.01661929,  0.05339158, -0.3248325 , -0.26583722,\n",
       "        -0.02814654, -0.16245396,  0.06878287,  0.08197182, -0.19200988,\n",
       "        -0.04568201,  0.03870448, -0.15482612,  0.17255163,  0.33140427,\n",
       "        -0.16084497, -0.0499585 , -0.11367702,  0.22446299, -0.12444285],\n",
       "       [ 0.26927343, -0.15289183, -0.02635756, -0.03964471,  0.20349607,\n",
       "         0.03658319,  0.12063362, -0.24963798,  0.15673465,  0.07297212,\n",
       "         0.34882754,  0.16523279,  0.10219467,  0.13068444,  0.2934147 ,\n",
       "         0.33325672,  0.02015707, -0.2734745 ,  0.35211694,  0.19723383],\n",
       "       [ 0.02867019,  0.10559431, -0.07936418, -0.06181413,  0.20103264,\n",
       "         0.05871779, -0.05960038,  0.07871661, -0.33488157,  0.20259684,\n",
       "         0.3485059 ,  0.11559194,  0.01636997,  0.3114125 ,  0.00489101,\n",
       "         0.09737632,  0.17701733,  0.13901359, -0.07100362,  0.0057652 ],\n",
       "       [-0.32129028,  0.03391495, -0.01298529, -0.26792657,  0.2536205 ,\n",
       "        -0.09739783,  0.05951422, -0.06072044, -0.22600286, -0.2648069 ,\n",
       "        -0.08449188, -0.03747925, -0.22423725, -0.30901408,  0.13328046,\n",
       "         0.21347362,  0.16140223,  0.35046315,  0.12484562, -0.04101214],\n",
       "       [ 0.05618891, -0.05235499, -0.27273366,  0.26402712, -0.19272098,\n",
       "        -0.28014684, -0.38573256,  0.01749569,  0.18173355, -0.02977344,\n",
       "        -0.3510388 ,  0.22324222, -0.18184306, -0.28931   ,  0.13019246,\n",
       "         0.11652827,  0.23079842, -0.16192837,  0.31963992,  0.06644279],\n",
       "       [-0.100173  , -0.01029545, -0.3276855 ,  0.11868984,  0.28748262,\n",
       "        -0.00359449, -0.09890407, -0.3444062 ,  0.25880843,  0.3748238 ,\n",
       "        -0.03209615, -0.26514718,  0.38471675,  0.1574179 , -0.31682512,\n",
       "         0.03735062,  0.28471613,  0.29350358, -0.01265562, -0.3527709 ],\n",
       "       [ 0.3914177 ,  0.00194194,  0.3155377 ,  0.27738196,  0.3320744 ,\n",
       "        -0.18120041,  0.05430423,  0.08319726,  0.24979466,  0.3083098 ,\n",
       "        -0.307483  ,  0.13061097,  0.30336767,  0.06365371, -0.26887125,\n",
       "        -0.20168257,  0.00754687,  0.09181327,  0.03061683,  0.15600894],\n",
       "       [-0.01563245, -0.09508419,  0.08553159,  0.31940407, -0.21124808,\n",
       "        -0.13865301,  0.03359658,  0.21160036,  0.06858876, -0.0342845 ,\n",
       "        -0.3495899 ,  0.1248821 ,  0.04481357,  0.023375  , -0.3720648 ,\n",
       "        -0.04126608, -0.32164893, -0.12536088, -0.33968857, -0.09120575],\n",
       "       [-0.15999928,  0.2897265 ,  0.09539728,  0.14737426,  0.05254788,\n",
       "        -0.042484  ,  0.2721205 ,  0.26191694, -0.11879346,  0.20956378,\n",
       "         0.08286753,  0.2372199 ,  0.17826101, -0.04991132,  0.09072962,\n",
       "        -0.32177615,  0.16165191, -0.06544648,  0.19617508,  0.0698778 ],\n",
       "       [-0.05688053, -0.04745701, -0.25217006, -0.00515865, -0.09116616,\n",
       "         0.20297219,  0.08559901,  0.10059963, -0.22575632,  0.19600415,\n",
       "        -0.10288084,  0.21534732, -0.00946698, -0.34747285,  0.3788357 ,\n",
       "         0.0085782 , -0.234764  ,  0.02717206,  0.33304465,  0.27396435],\n",
       "       [-0.27795848,  0.3015852 ,  0.22005773, -0.2659412 , -0.2647876 ,\n",
       "        -0.15549354,  0.01685438,  0.28982407, -0.29893267, -0.02159414,\n",
       "         0.12169087,  0.2855978 ,  0.1538713 ,  0.21149999,  0.08757007,\n",
       "         0.21304083,  0.05288872,  0.07328188,  0.16525775,  0.22321707],\n",
       "       [ 0.24277252, -0.05824944,  0.10313959, -0.17629573, -0.10815404,\n",
       "        -0.33185214,  0.17923895, -0.2598876 ,  0.3860572 , -0.03539187,\n",
       "         0.13216764, -0.0379098 , -0.21194075, -0.36902028, -0.03283986,\n",
       "         0.34410122, -0.33803728, -0.17279269,  0.12793885,  0.3509014 ],\n",
       "       [ 0.3379838 , -0.01428282, -0.01232994,  0.18528241, -0.12876368,\n",
       "         0.28592765, -0.37433374,  0.1578201 , -0.3482678 ,  0.19974524,\n",
       "         0.09510541,  0.14893478,  0.15992111, -0.33819923,  0.2746126 ,\n",
       "        -0.17664677,  0.05588242, -0.323262  ,  0.3271827 , -0.3129457 ],\n",
       "       [-0.37251493,  0.1412698 , -0.11223441,  0.1462223 ,  0.11572474,\n",
       "        -0.09824845, -0.20826498, -0.38014677,  0.3297394 , -0.3441649 ,\n",
       "         0.36694318, -0.20161138, -0.2059901 , -0.3661802 , -0.05332103,\n",
       "        -0.19202733,  0.10939619,  0.02409756,  0.33378422, -0.08368012],\n",
       "       [-0.13657197,  0.33976936, -0.24615449,  0.276864  ,  0.09597859,\n",
       "         0.3069499 ,  0.3696273 , -0.05154195, -0.33038437, -0.228871  ,\n",
       "        -0.3830862 , -0.1898532 ,  0.1677115 , -0.22181565, -0.2580666 ,\n",
       "        -0.05067238, -0.11240581,  0.00189582, -0.15463321,  0.02857202],\n",
       "       [ 0.34838718, -0.22647232, -0.23926507, -0.3652897 , -0.16574697,\n",
       "        -0.12875158,  0.22766942, -0.25489247, -0.01201323, -0.09757391,\n",
       "         0.09080926, -0.07399061,  0.01243466, -0.2928655 ,  0.2704178 ,\n",
       "        -0.03582415,  0.01876339, -0.22315273, -0.37503865,  0.0641152 ],\n",
       "       [-0.22989495,  0.01440757,  0.1477697 , -0.25300872,  0.26061058,\n",
       "         0.2676241 ,  0.16620667,  0.1668045 ,  0.04963008, -0.01716909,\n",
       "        -0.2514578 ,  0.21830767, -0.03047144, -0.32718557,  0.2029716 ,\n",
       "        -0.07527657, -0.19138908,  0.07304702,  0.29256564, -0.2960432 ],\n",
       "       [ 0.3059982 ,  0.33345845, -0.18726242,  0.2784334 ,  0.09833956,\n",
       "        -0.05704412,  0.25349236, -0.30316085, -0.3409612 ,  0.06199337,\n",
       "        -0.08094013, -0.29883245, -0.06185619,  0.15058738,  0.00735955,\n",
       "         0.36098322, -0.13672608,  0.20423305, -0.21548161,  0.08392549],\n",
       "       [-0.00300813, -0.3397179 , -0.26430896,  0.26849473, -0.19424658,\n",
       "        -0.23279148, -0.20873868,  0.279057  , -0.29461443, -0.18381602,\n",
       "         0.24578291,  0.07760422,  0.22604342, -0.11237743,  0.15855992,\n",
       "         0.0770407 ,  0.11015338, -0.13372053, -0.29118776, -0.22565511],\n",
       "       [ 0.06379995, -0.18642733, -0.30428845, -0.1751121 ,  0.10648012,\n",
       "         0.35169256,  0.11773092,  0.21264702, -0.31272933, -0.29255128,\n",
       "        -0.17037685, -0.20732754, -0.32683164, -0.16279896, -0.09627452,\n",
       "        -0.27206725, -0.06056774,  0.1392461 ,  0.03812969,  0.2234751 ]],\n",
       "      dtype=float32),\n",
       "       array([ 0.01441216, -0.03484098, -0.00941192,  0.01653224, -0.02013024,\n",
       "       -0.05963146,  0.01155165, -0.02568952,  0.        , -0.01663441,\n",
       "        0.        ,  0.00525842,  0.01129227,  0.        ,  0.01256237,\n",
       "        0.00585073,  0.        , -0.02264804, -0.02345007,  0.01154151],\n",
       "      dtype=float32),\n",
       "       array([[ 0.1772443 ,  0.3844747 ,  0.22832407, -0.3657842 , -0.08987033,\n",
       "        -0.26105157,  0.22808695, -0.16471443, -0.18732417,  0.17483759,\n",
       "         0.24481153,  0.06005719, -0.25604814,  0.07645375,  0.30905223,\n",
       "         0.06991088,  0.33155793,  0.06148583,  0.05391647, -0.3028437 ],\n",
       "       [-0.09718913,  0.2531392 , -0.11387668,  0.19817081,  0.22179192,\n",
       "         0.16711241, -0.20626159, -0.2719035 ,  0.27523592,  0.07877091,\n",
       "        -0.06435436, -0.07944629, -0.16449365,  0.03168267, -0.2383921 ,\n",
       "         0.2039029 , -0.12001851,  0.261896  ,  0.26212338,  0.2635687 ],\n",
       "       [ 0.32795256, -0.14914818, -0.34027317, -0.4071411 , -0.28617805,\n",
       "        -0.2998668 , -0.27321208, -0.08201376, -0.2809573 , -0.1273436 ,\n",
       "        -0.15146433,  0.23761398, -0.26406485, -0.01370221, -0.02725288,\n",
       "         0.07729042, -0.2846333 ,  0.04225118,  0.35562268,  0.27514964],\n",
       "       [ 0.24299282,  0.1617595 ,  0.10927317, -0.39005384, -0.31520292,\n",
       "        -0.05047894, -0.27925974, -0.23986176,  0.10675134, -0.3566317 ,\n",
       "        -0.18870386,  0.3172484 , -0.05971155, -0.16684848, -0.02263907,\n",
       "        -0.17431372,  0.20215654,  0.2253327 , -0.36841226, -0.10353756],\n",
       "       [-0.27954966, -0.33850625, -0.1600146 ,  0.21531814,  0.18029821,\n",
       "         0.12837133, -0.02205566,  0.10153767,  0.05087991, -0.21475743,\n",
       "         0.05968541, -0.34261155, -0.20886102, -0.12811121, -0.08157331,\n",
       "        -0.17461771,  0.16433084,  0.10470275, -0.07837759, -0.07949659],\n",
       "       [-0.28074887, -0.10789531,  0.24191964, -0.03991593, -0.05057997,\n",
       "        -0.13511181, -0.22429329, -0.00652063, -0.08342318, -0.17161678,\n",
       "         0.10834381, -0.14765523,  0.21425712, -0.0685522 , -0.19677024,\n",
       "        -0.3784047 , -0.17589799,  0.11184338,  0.21945563,  0.19451171],\n",
       "       [-0.303879  ,  0.25894505, -0.05654625, -0.00943518, -0.13503063,\n",
       "         0.1910452 , -0.3443687 , -0.26763055, -0.09050959, -0.1201646 ,\n",
       "        -0.23498866,  0.00054306, -0.11032474, -0.0388166 , -0.06024176,\n",
       "        -0.17469408,  0.05137298,  0.19129261, -0.29126477, -0.2204482 ],\n",
       "       [-0.29148987,  0.13727105,  0.15009548, -0.10808517, -0.32464153,\n",
       "        -0.10664017,  0.38013405, -0.3736821 ,  0.35443935, -0.12181008,\n",
       "        -0.19378445,  0.23263532, -0.21178272,  0.316531  ,  0.12785065,\n",
       "        -0.09348893, -0.26739645,  0.2579594 , -0.3740525 ,  0.11827296],\n",
       "       [ 0.37507904,  0.14754063, -0.09850702, -0.29873413,  0.29903626,\n",
       "         0.35045058,  0.17474705, -0.21203241, -0.17600372, -0.20636982,\n",
       "        -0.12511915,  0.3569224 ,  0.24173671, -0.10211498, -0.32919064,\n",
       "         0.08599165, -0.10059065,  0.1831302 , -0.28991917, -0.241626  ],\n",
       "       [-0.16159604,  0.1576153 , -0.09577886,  0.03478261, -0.18333942,\n",
       "         0.03951934, -0.01829857,  0.0430558 ,  0.21083471, -0.03119215,\n",
       "        -0.19134393, -0.23146425,  0.19124633, -0.23801535, -0.26020122,\n",
       "         0.37576997, -0.2475488 ,  0.16156904, -0.3717906 , -0.02572337],\n",
       "       [-0.29171148, -0.23945354,  0.00830165,  0.03575629,  0.16353571,\n",
       "        -0.2763685 ,  0.07957408,  0.01150316,  0.18419725,  0.02384797,\n",
       "        -0.21949886, -0.13510922,  0.30433267,  0.32739806,  0.37064433,\n",
       "         0.133681  , -0.13922754, -0.09562474,  0.21866441,  0.11149997],\n",
       "       [-0.11113179, -0.07318798, -0.05644318,  0.3176985 , -0.16891494,\n",
       "         0.23032416, -0.19439805, -0.3844376 , -0.31568173, -0.23864944,\n",
       "        -0.16392004,  0.01791868,  0.0397774 , -0.13601258,  0.22847766,\n",
       "         0.27566886, -0.3190444 , -0.16308337, -0.13030578, -0.36259356],\n",
       "       [ 0.06514949,  0.24227446,  0.28205478, -0.3301839 ,  0.18753189,\n",
       "         0.35105154,  0.05014855,  0.18417418, -0.40961206, -0.35391304,\n",
       "         0.06850269,  0.04988068,  0.13311845,  0.17946237,  0.08010235,\n",
       "        -0.07879132,  0.04181513, -0.16953667, -0.01683614,  0.12088621],\n",
       "       [-0.28357565, -0.36163554,  0.1259706 , -0.00499547, -0.3517345 ,\n",
       "        -0.284783  ,  0.24228185, -0.25456583, -0.24604285,  0.15676183,\n",
       "        -0.1340586 ,  0.07235491,  0.19995594,  0.36297768, -0.232205  ,\n",
       "        -0.01071107,  0.19303852, -0.15237617,  0.2604897 , -0.05750695],\n",
       "       [-0.30096155,  0.02035412,  0.09518531, -0.2863352 , -0.22500809,\n",
       "        -0.00934071,  0.33994138,  0.18296796,  0.07695047, -0.21621057,\n",
       "        -0.07093805,  0.0586502 , -0.20407213, -0.2302764 , -0.24417233,\n",
       "        -0.21641529, -0.18097904,  0.12326592, -0.01367343, -0.17236473],\n",
       "       [-0.21757083, -0.28994215,  0.20158085,  0.00859145,  0.01151985,\n",
       "         0.1074057 , -0.2946268 ,  0.36475784,  0.3290201 ,  0.04855469,\n",
       "         0.16306192,  0.29318315,  0.10591039, -0.3157128 , -0.25317317,\n",
       "        -0.13183358, -0.19362442,  0.25995892,  0.14850232,  0.22133893],\n",
       "       [-0.12870255, -0.27774686,  0.32808042, -0.08599257, -0.18200438,\n",
       "         0.18725938,  0.3015635 , -0.09245047, -0.37858486,  0.22368509,\n",
       "         0.37181973, -0.23238441, -0.2775546 , -0.02777857,  0.15135676,\n",
       "        -0.01184508, -0.27971792, -0.29186612, -0.32389894, -0.09054247],\n",
       "       [-0.27663997, -0.21335194,  0.39292538,  0.23015612,  0.13330299,\n",
       "        -0.23529615,  0.26552123,  0.27213484,  0.07056559,  0.37981558,\n",
       "         0.26839197, -0.25581437,  0.08441004, -0.18372032, -0.21726942,\n",
       "         0.3677556 , -0.1283598 ,  0.35929552,  0.28828415,  0.11268938],\n",
       "       [ 0.2578478 , -0.36775598,  0.05701948,  0.3275235 , -0.23537944,\n",
       "        -0.0499464 ,  0.32825744, -0.06357539, -0.12581462,  0.2378149 ,\n",
       "        -0.02638137, -0.06310546, -0.24402127, -0.12828878,  0.05441499,\n",
       "        -0.12414858, -0.12477002, -0.1511008 ,  0.07712416, -0.13550407],\n",
       "       [ 0.0687919 , -0.2711552 , -0.16535687, -0.18336156, -0.33454   ,\n",
       "         0.16901843, -0.29612842, -0.17761089, -0.40186617, -0.16113573,\n",
       "         0.15454316, -0.0853748 , -0.3861743 ,  0.24709767,  0.14476413,\n",
       "         0.09854588, -0.08450285, -0.18682118,  0.2169055 , -0.3177622 ]],\n",
       "      dtype=float32),\n",
       "       array([ 0.        ,  0.        ,  0.01046811, -0.01950348,  0.        ,\n",
       "        0.01037293,  0.        ,  0.        , -0.02651643,  0.        ,\n",
       "        0.        ,  0.        ,  0.        ,  0.        ,  0.        ,\n",
       "        0.        ,  0.        , -0.01262402, -0.0265164 ,  0.        ],\n",
       "      dtype=float32),\n",
       "       array([[-0.20270634],\n",
       "       [ 0.32797354],\n",
       "       [ 0.39901724],\n",
       "       [-0.1534428 ],\n",
       "       [ 0.23403138],\n",
       "       [ 0.50634825],\n",
       "       [ 0.21169835],\n",
       "       [-0.28535748],\n",
       "       [ 0.1259295 ],\n",
       "       [-0.21263406],\n",
       "       [ 0.00805014],\n",
       "       [ 0.12352043],\n",
       "       [ 0.43693358],\n",
       "       [-0.2655218 ],\n",
       "       [ 0.16978037],\n",
       "       [ 0.41137952],\n",
       "       [-0.28626406],\n",
       "       [-0.1102353 ],\n",
       "       [ 0.11584374],\n",
       "       [-0.4580565 ]], dtype=float32),\n",
       "       array([0.01060953], dtype=float32)], dtype=object)"
      ]
     },
     "execution_count": 34,
     "metadata": {},
     "output_type": "execute_result"
    }
   ],
   "source": [
    "np.asarray(weights)"
   ]
  },
  {
   "cell_type": "code",
   "execution_count": 35,
   "metadata": {},
   "outputs": [],
   "source": [
    "y_loaded = loaded_model.predict(x_test)"
   ]
  },
  {
   "cell_type": "code",
   "execution_count": 36,
   "metadata": {},
   "outputs": [
    {
     "data": {
      "text/plain": [
       "True"
      ]
     },
     "execution_count": 36,
     "metadata": {},
     "output_type": "execute_result"
    }
   ],
   "source": [
    "(y == y_loaded).all()"
   ]
  },
  {
   "cell_type": "code",
   "execution_count": null,
   "metadata": {},
   "outputs": [],
   "source": []
  }
 ],
 "metadata": {
  "kernelspec": {
   "display_name": "Python 3",
   "language": "python",
   "name": "python3"
  },
  "language_info": {
   "codemirror_mode": {
    "name": "ipython",
    "version": 3
   },
   "file_extension": ".py",
   "mimetype": "text/x-python",
   "name": "python",
   "nbconvert_exporter": "python",
   "pygments_lexer": "ipython3",
   "version": "3.6.0"
  }
 },
 "nbformat": 4,
 "nbformat_minor": 2
}
